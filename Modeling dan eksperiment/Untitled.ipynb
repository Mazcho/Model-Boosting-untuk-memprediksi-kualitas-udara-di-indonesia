{
 "cells": [
  {
   "cell_type": "markdown",
   "id": "b6163cad",
   "metadata": {},
   "source": [
    "# Crisp DM Workflow"
   ]
  },
  {
   "cell_type": "markdown",
   "id": "8541796f",
   "metadata": {},
   "source": [
    "# Import Library"
   ]
  },
  {
   "cell_type": "code",
   "execution_count": 2,
   "id": "0bd32caf",
   "metadata": {},
   "outputs": [],
   "source": [
    "import pandas as pd\n",
    "import numpy as np\n",
    "import matplotlib.pyplot as plt\n",
    "import seaborn as sns"
   ]
  },
  {
   "cell_type": "markdown",
   "id": "f0a77524",
   "metadata": {},
   "source": [
    "# Loading Data set"
   ]
  },
  {
   "cell_type": "code",
   "execution_count": 2,
   "id": "d77d7713",
   "metadata": {},
   "outputs": [
    {
     "data": {
      "text/html": [
       "<div>\n",
       "<style scoped>\n",
       "    .dataframe tbody tr th:only-of-type {\n",
       "        vertical-align: middle;\n",
       "    }\n",
       "\n",
       "    .dataframe tbody tr th {\n",
       "        vertical-align: top;\n",
       "    }\n",
       "\n",
       "    .dataframe thead th {\n",
       "        text-align: right;\n",
       "    }\n",
       "</style>\n",
       "<table border=\"1\" class=\"dataframe\">\n",
       "  <thead>\n",
       "    <tr style=\"text-align: right;\">\n",
       "      <th></th>\n",
       "      <th>Date</th>\n",
       "      <th>PM2.5</th>\n",
       "      <th>PM10</th>\n",
       "      <th>SO2</th>\n",
       "      <th>CO</th>\n",
       "      <th>O3</th>\n",
       "      <th>NO2</th>\n",
       "      <th>Max</th>\n",
       "      <th>Critical Component</th>\n",
       "      <th>Category</th>\n",
       "    </tr>\n",
       "  </thead>\n",
       "  <tbody>\n",
       "    <tr>\n",
       "      <th>0</th>\n",
       "      <td>1/1/2020</td>\n",
       "      <td>45</td>\n",
       "      <td>30</td>\n",
       "      <td>2</td>\n",
       "      <td>69</td>\n",
       "      <td>19.0</td>\n",
       "      <td>0</td>\n",
       "      <td>69</td>\n",
       "      <td>CO</td>\n",
       "      <td>Moderate</td>\n",
       "    </tr>\n",
       "    <tr>\n",
       "      <th>1</th>\n",
       "      <td>1/2/2020</td>\n",
       "      <td>44</td>\n",
       "      <td>16</td>\n",
       "      <td>2</td>\n",
       "      <td>58</td>\n",
       "      <td>33.0</td>\n",
       "      <td>0</td>\n",
       "      <td>58</td>\n",
       "      <td>CO</td>\n",
       "      <td>Moderate</td>\n",
       "    </tr>\n",
       "    <tr>\n",
       "      <th>2</th>\n",
       "      <td>1/3/2020</td>\n",
       "      <td>43</td>\n",
       "      <td>12</td>\n",
       "      <td>2</td>\n",
       "      <td>46</td>\n",
       "      <td>18.0</td>\n",
       "      <td>0</td>\n",
       "      <td>46</td>\n",
       "      <td>CO</td>\n",
       "      <td>Good</td>\n",
       "    </tr>\n",
       "    <tr>\n",
       "      <th>3</th>\n",
       "      <td>1/4/2020</td>\n",
       "      <td>40</td>\n",
       "      <td>8</td>\n",
       "      <td>2</td>\n",
       "      <td>84</td>\n",
       "      <td>29.0</td>\n",
       "      <td>0</td>\n",
       "      <td>84</td>\n",
       "      <td>CO</td>\n",
       "      <td>Moderate</td>\n",
       "    </tr>\n",
       "    <tr>\n",
       "      <th>4</th>\n",
       "      <td>1/5/2020</td>\n",
       "      <td>38</td>\n",
       "      <td>8</td>\n",
       "      <td>3</td>\n",
       "      <td>50</td>\n",
       "      <td>0.0</td>\n",
       "      <td>0</td>\n",
       "      <td>50</td>\n",
       "      <td>CO</td>\n",
       "      <td>Good</td>\n",
       "    </tr>\n",
       "    <tr>\n",
       "      <th>...</th>\n",
       "      <td>...</td>\n",
       "      <td>...</td>\n",
       "      <td>...</td>\n",
       "      <td>...</td>\n",
       "      <td>...</td>\n",
       "      <td>...</td>\n",
       "      <td>...</td>\n",
       "      <td>...</td>\n",
       "      <td>...</td>\n",
       "      <td>...</td>\n",
       "    </tr>\n",
       "    <tr>\n",
       "      <th>1091</th>\n",
       "      <td>12/27/2022</td>\n",
       "      <td>50</td>\n",
       "      <td>19</td>\n",
       "      <td>16</td>\n",
       "      <td>12</td>\n",
       "      <td>NaN</td>\n",
       "      <td>4</td>\n",
       "      <td>19</td>\n",
       "      <td>PM2.5</td>\n",
       "      <td>Moderate</td>\n",
       "    </tr>\n",
       "    <tr>\n",
       "      <th>1092</th>\n",
       "      <td>12/28/2022</td>\n",
       "      <td>51</td>\n",
       "      <td>20</td>\n",
       "      <td>16</td>\n",
       "      <td>12</td>\n",
       "      <td>NaN</td>\n",
       "      <td>4</td>\n",
       "      <td>20</td>\n",
       "      <td>PM2.5</td>\n",
       "      <td>Moderate</td>\n",
       "    </tr>\n",
       "    <tr>\n",
       "      <th>1093</th>\n",
       "      <td>12/29/2022</td>\n",
       "      <td>52</td>\n",
       "      <td>21</td>\n",
       "      <td>16</td>\n",
       "      <td>13</td>\n",
       "      <td>NaN</td>\n",
       "      <td>4</td>\n",
       "      <td>21</td>\n",
       "      <td>PM2.5</td>\n",
       "      <td>Moderate</td>\n",
       "    </tr>\n",
       "    <tr>\n",
       "      <th>1094</th>\n",
       "      <td>12/30/2022</td>\n",
       "      <td>53</td>\n",
       "      <td>22</td>\n",
       "      <td>17</td>\n",
       "      <td>13</td>\n",
       "      <td>NaN</td>\n",
       "      <td>4</td>\n",
       "      <td>22</td>\n",
       "      <td>PM2.5</td>\n",
       "      <td>Moderate</td>\n",
       "    </tr>\n",
       "    <tr>\n",
       "      <th>1095</th>\n",
       "      <td>12/31/2022</td>\n",
       "      <td>53</td>\n",
       "      <td>23</td>\n",
       "      <td>17</td>\n",
       "      <td>14</td>\n",
       "      <td>NaN</td>\n",
       "      <td>4</td>\n",
       "      <td>23</td>\n",
       "      <td>PM2.5</td>\n",
       "      <td>Moderate</td>\n",
       "    </tr>\n",
       "  </tbody>\n",
       "</table>\n",
       "<p>1096 rows × 10 columns</p>\n",
       "</div>"
      ],
      "text/plain": [
       "            Date  PM2.5  PM10  SO2  CO    O3  NO2  Max Critical Component  \\\n",
       "0       1/1/2020     45    30    2  69  19.0    0   69                 CO   \n",
       "1       1/2/2020     44    16    2  58  33.0    0   58                 CO   \n",
       "2       1/3/2020     43    12    2  46  18.0    0   46                 CO   \n",
       "3       1/4/2020     40     8    2  84  29.0    0   84                 CO   \n",
       "4       1/5/2020     38     8    3  50   0.0    0   50                 CO   \n",
       "...          ...    ...   ...  ...  ..   ...  ...  ...                ...   \n",
       "1091  12/27/2022     50    19   16  12   NaN    4   19              PM2.5   \n",
       "1092  12/28/2022     51    20   16  12   NaN    4   20              PM2.5   \n",
       "1093  12/29/2022     52    21   16  13   NaN    4   21              PM2.5   \n",
       "1094  12/30/2022     53    22   17  13   NaN    4   22              PM2.5   \n",
       "1095  12/31/2022     53    23   17  14   NaN    4   23              PM2.5   \n",
       "\n",
       "      Category  \n",
       "0     Moderate  \n",
       "1     Moderate  \n",
       "2         Good  \n",
       "3     Moderate  \n",
       "4         Good  \n",
       "...        ...  \n",
       "1091  Moderate  \n",
       "1092  Moderate  \n",
       "1093  Moderate  \n",
       "1094  Moderate  \n",
       "1095  Moderate  \n",
       "\n",
       "[1096 rows x 10 columns]"
      ]
     },
     "execution_count": 2,
     "metadata": {},
     "output_type": "execute_result"
    }
   ],
   "source": [
    "df = pd.read_csv(\"pollutant-standards-index-southtangerang-2020-2022.csv\")\n",
    "df"
   ]
  },
  {
   "cell_type": "markdown",
   "id": "86038be8",
   "metadata": {},
   "source": [
    "# Data Understanding"
   ]
  },
  {
   "cell_type": "markdown",
   "id": "06bfd93a",
   "metadata": {},
   "source": [
    "## Penjelasan Feature dataset"
   ]
  },
  {
   "cell_type": "code",
   "execution_count": 3,
   "id": "34feea12",
   "metadata": {},
   "outputs": [
    {
     "data": {
      "text/html": [
       "<div>\n",
       "<style scoped>\n",
       "    .dataframe tbody tr th:only-of-type {\n",
       "        vertical-align: middle;\n",
       "    }\n",
       "\n",
       "    .dataframe tbody tr th {\n",
       "        vertical-align: top;\n",
       "    }\n",
       "\n",
       "    .dataframe thead th {\n",
       "        text-align: right;\n",
       "    }\n",
       "</style>\n",
       "<table border=\"1\" class=\"dataframe\">\n",
       "  <thead>\n",
       "    <tr style=\"text-align: right;\">\n",
       "      <th></th>\n",
       "      <th>Nama Feature</th>\n",
       "      <th>Penjelasan</th>\n",
       "    </tr>\n",
       "  </thead>\n",
       "  <tbody>\n",
       "    <tr>\n",
       "      <th>1</th>\n",
       "      <td>Date</td>\n",
       "      <td>Tanggal pengukuran</td>\n",
       "    </tr>\n",
       "    <tr>\n",
       "      <th>2</th>\n",
       "      <td>PM10</td>\n",
       "      <td>Pengukuran Materi Partikulat</td>\n",
       "    </tr>\n",
       "    <tr>\n",
       "      <th>3</th>\n",
       "      <td>SO2</td>\n",
       "      <td>Pengukuran Sulfur Dioksida</td>\n",
       "    </tr>\n",
       "    <tr>\n",
       "      <th>4</th>\n",
       "      <td>CO</td>\n",
       "      <td>Pengukuran Karbon Monoksida</td>\n",
       "    </tr>\n",
       "    <tr>\n",
       "      <th>5</th>\n",
       "      <td>O3</td>\n",
       "      <td>Pengukuran ozon</td>\n",
       "    </tr>\n",
       "    <tr>\n",
       "      <th>6</th>\n",
       "      <td>NO2</td>\n",
       "      <td>Pengukuran Natrium DIoksida</td>\n",
       "    </tr>\n",
       "    <tr>\n",
       "      <th>7</th>\n",
       "      <td>Max</td>\n",
       "      <td>Nilai pengukuran tertinggi</td>\n",
       "    </tr>\n",
       "    <tr>\n",
       "      <th>8</th>\n",
       "      <td>Critical Component</td>\n",
       "      <td>Komponen nilai pengukuran tertinggi</td>\n",
       "    </tr>\n",
       "    <tr>\n",
       "      <th>9</th>\n",
       "      <td>Categoy</td>\n",
       "      <td>Kategori pencemaran udara baik atau tidak</td>\n",
       "    </tr>\n",
       "  </tbody>\n",
       "</table>\n",
       "</div>"
      ],
      "text/plain": [
       "         Nama Feature                                 Penjelasan\n",
       "1                Date                         Tanggal pengukuran\n",
       "2                PM10               Pengukuran Materi Partikulat\n",
       "3                 SO2                 Pengukuran Sulfur Dioksida\n",
       "4                  CO                Pengukuran Karbon Monoksida\n",
       "5                  O3                            Pengukuran ozon\n",
       "6                 NO2                Pengukuran Natrium DIoksida\n",
       "7                 Max                 Nilai pengukuran tertinggi\n",
       "8  Critical Component        Komponen nilai pengukuran tertinggi\n",
       "9             Categoy  Kategori pencemaran udara baik atau tidak"
      ]
     },
     "execution_count": 3,
     "metadata": {},
     "output_type": "execute_result"
    }
   ],
   "source": [
    "feature_dataset = pd.Series([\"Date\",\"PM10\",\"SO2\",\"CO\",\"O3\",\"NO2\",\"Max\",\"Critical Component\",\"Categoy\"],index=[1,2,3,4,5,6,7,8,9])\n",
    "penjelasan_feature = pd.Series([\"Tanggal pengukuran\",\"Pengukuran Materi Partikulat\",\"Pengukuran Sulfur Dioksida\",\"Pengukuran Karbon Monoksida\",\"Pengukuran ozon\",\"Pengukuran Natrium DIoksida\",\"Nilai pengukuran tertinggi\",\"Komponen nilai pengukuran tertinggi\",\"Kategori pencemaran udara baik atau tidak\"],index=[1,2,3,4,5,6,7,8,9])\n",
    "\n",
    "deskripsi_variabel = pd.DataFrame({\"Nama Feature\":feature_dataset,\n",
    "                                  \"Penjelasan\":penjelasan_feature})\n",
    "deskripsi_variabel"
   ]
  },
  {
   "cell_type": "code",
   "execution_count": 4,
   "id": "b04fd80a",
   "metadata": {},
   "outputs": [
    {
     "name": "stdout",
     "output_type": "stream",
     "text": [
      "<class 'pandas.core.frame.DataFrame'>\n",
      "RangeIndex: 1096 entries, 0 to 1095\n",
      "Data columns (total 10 columns):\n",
      " #   Column              Non-Null Count  Dtype  \n",
      "---  ------              --------------  -----  \n",
      " 0   Date                1096 non-null   object \n",
      " 1   PM2.5               1096 non-null   int64  \n",
      " 2   PM10                1096 non-null   int64  \n",
      " 3   SO2                 1096 non-null   int64  \n",
      " 4   CO                  1096 non-null   int64  \n",
      " 5   O3                  1036 non-null   float64\n",
      " 6   NO2                 1096 non-null   int64  \n",
      " 7   Max                 1096 non-null   int64  \n",
      " 8   Critical Component  1096 non-null   object \n",
      " 9   Category            1096 non-null   object \n",
      "dtypes: float64(1), int64(6), object(3)\n",
      "memory usage: 85.8+ KB\n"
     ]
    }
   ],
   "source": [
    "df.info()"
   ]
  },
  {
   "cell_type": "markdown",
   "id": "48a6327b",
   "metadata": {},
   "source": [
    "## Statistik Deskriptif"
   ]
  },
  {
   "cell_type": "code",
   "execution_count": 5,
   "id": "1b284565",
   "metadata": {},
   "outputs": [
    {
     "data": {
      "text/html": [
       "<div>\n",
       "<style scoped>\n",
       "    .dataframe tbody tr th:only-of-type {\n",
       "        vertical-align: middle;\n",
       "    }\n",
       "\n",
       "    .dataframe tbody tr th {\n",
       "        vertical-align: top;\n",
       "    }\n",
       "\n",
       "    .dataframe thead th {\n",
       "        text-align: right;\n",
       "    }\n",
       "</style>\n",
       "<table border=\"1\" class=\"dataframe\">\n",
       "  <thead>\n",
       "    <tr style=\"text-align: right;\">\n",
       "      <th></th>\n",
       "      <th>PM2.5</th>\n",
       "      <th>PM10</th>\n",
       "      <th>SO2</th>\n",
       "      <th>CO</th>\n",
       "      <th>O3</th>\n",
       "      <th>NO2</th>\n",
       "      <th>Max</th>\n",
       "    </tr>\n",
       "  </thead>\n",
       "  <tbody>\n",
       "    <tr>\n",
       "      <th>count</th>\n",
       "      <td>1096.000000</td>\n",
       "      <td>1096.000000</td>\n",
       "      <td>1096.000000</td>\n",
       "      <td>1096.000000</td>\n",
       "      <td>1036.000000</td>\n",
       "      <td>1096.000000</td>\n",
       "      <td>1096.000000</td>\n",
       "    </tr>\n",
       "    <tr>\n",
       "      <th>mean</th>\n",
       "      <td>44.193431</td>\n",
       "      <td>18.738139</td>\n",
       "      <td>10.580292</td>\n",
       "      <td>18.820255</td>\n",
       "      <td>20.960425</td>\n",
       "      <td>2.374088</td>\n",
       "      <td>29.235401</td>\n",
       "    </tr>\n",
       "    <tr>\n",
       "      <th>std</th>\n",
       "      <td>10.826190</td>\n",
       "      <td>7.290818</td>\n",
       "      <td>8.068708</td>\n",
       "      <td>17.066338</td>\n",
       "      <td>12.467208</td>\n",
       "      <td>2.227808</td>\n",
       "      <td>15.907933</td>\n",
       "    </tr>\n",
       "    <tr>\n",
       "      <th>min</th>\n",
       "      <td>19.000000</td>\n",
       "      <td>3.000000</td>\n",
       "      <td>0.000000</td>\n",
       "      <td>0.000000</td>\n",
       "      <td>0.000000</td>\n",
       "      <td>0.000000</td>\n",
       "      <td>11.000000</td>\n",
       "    </tr>\n",
       "    <tr>\n",
       "      <th>25%</th>\n",
       "      <td>35.000000</td>\n",
       "      <td>13.000000</td>\n",
       "      <td>1.000000</td>\n",
       "      <td>10.000000</td>\n",
       "      <td>15.000000</td>\n",
       "      <td>0.000000</td>\n",
       "      <td>20.000000</td>\n",
       "    </tr>\n",
       "    <tr>\n",
       "      <th>50%</th>\n",
       "      <td>45.000000</td>\n",
       "      <td>17.000000</td>\n",
       "      <td>14.000000</td>\n",
       "      <td>12.000000</td>\n",
       "      <td>20.000000</td>\n",
       "      <td>3.000000</td>\n",
       "      <td>24.000000</td>\n",
       "    </tr>\n",
       "    <tr>\n",
       "      <th>75%</th>\n",
       "      <td>53.000000</td>\n",
       "      <td>23.000000</td>\n",
       "      <td>16.000000</td>\n",
       "      <td>21.000000</td>\n",
       "      <td>26.000000</td>\n",
       "      <td>4.000000</td>\n",
       "      <td>31.000000</td>\n",
       "    </tr>\n",
       "    <tr>\n",
       "      <th>max</th>\n",
       "      <td>66.000000</td>\n",
       "      <td>60.000000</td>\n",
       "      <td>28.000000</td>\n",
       "      <td>164.000000</td>\n",
       "      <td>81.000000</td>\n",
       "      <td>8.000000</td>\n",
       "      <td>164.000000</td>\n",
       "    </tr>\n",
       "  </tbody>\n",
       "</table>\n",
       "</div>"
      ],
      "text/plain": [
       "             PM2.5         PM10          SO2           CO           O3  \\\n",
       "count  1096.000000  1096.000000  1096.000000  1096.000000  1036.000000   \n",
       "mean     44.193431    18.738139    10.580292    18.820255    20.960425   \n",
       "std      10.826190     7.290818     8.068708    17.066338    12.467208   \n",
       "min      19.000000     3.000000     0.000000     0.000000     0.000000   \n",
       "25%      35.000000    13.000000     1.000000    10.000000    15.000000   \n",
       "50%      45.000000    17.000000    14.000000    12.000000    20.000000   \n",
       "75%      53.000000    23.000000    16.000000    21.000000    26.000000   \n",
       "max      66.000000    60.000000    28.000000   164.000000    81.000000   \n",
       "\n",
       "               NO2          Max  \n",
       "count  1096.000000  1096.000000  \n",
       "mean      2.374088    29.235401  \n",
       "std       2.227808    15.907933  \n",
       "min       0.000000    11.000000  \n",
       "25%       0.000000    20.000000  \n",
       "50%       3.000000    24.000000  \n",
       "75%       4.000000    31.000000  \n",
       "max       8.000000   164.000000  "
      ]
     },
     "execution_count": 5,
     "metadata": {},
     "output_type": "execute_result"
    }
   ],
   "source": [
    "df.describe()"
   ]
  },
  {
   "cell_type": "code",
   "execution_count": 6,
   "id": "bb9cf1f0",
   "metadata": {},
   "outputs": [
    {
     "data": {
      "text/plain": [
       "PM2.5       615\n",
       "CO          222\n",
       "O3          181\n",
       "PM10         70\n",
       "PM10,O3       4\n",
       "CO, PM10      2\n",
       "PM10, CO      1\n",
       "PM10,CO       1\n",
       "Name: Critical Component, dtype: int64"
      ]
     },
     "execution_count": 6,
     "metadata": {},
     "output_type": "execute_result"
    }
   ],
   "source": [
    "df[\"Critical Component\"].value_counts()"
   ]
  },
  {
   "cell_type": "markdown",
   "id": "8c3996a2",
   "metadata": {},
   "source": [
    "# Data Prepatration"
   ]
  },
  {
   "cell_type": "markdown",
   "id": "985e44de",
   "metadata": {},
   "source": [
    "## Data Cleansing"
   ]
  },
  {
   "cell_type": "markdown",
   "id": "100911d8",
   "metadata": {},
   "source": [
    "### Mengecek nilai hilang"
   ]
  },
  {
   "cell_type": "code",
   "execution_count": 7,
   "id": "f631c6f8",
   "metadata": {},
   "outputs": [
    {
     "data": {
      "text/plain": [
       "Date                   0\n",
       "PM2.5                  0\n",
       "PM10                   0\n",
       "SO2                    0\n",
       "CO                     0\n",
       "O3                    60\n",
       "NO2                    0\n",
       "Max                    0\n",
       "Critical Component     0\n",
       "Category               0\n",
       "dtype: int64"
      ]
     },
     "execution_count": 7,
     "metadata": {},
     "output_type": "execute_result"
    }
   ],
   "source": [
    "df.isna().sum()"
   ]
  },
  {
   "cell_type": "markdown",
   "id": "108569a7",
   "metadata": {},
   "source": [
    "### Mengisi Missing value dengan nilai Mean pada O3"
   ]
  },
  {
   "cell_type": "code",
   "execution_count": 8,
   "id": "eb6a459b",
   "metadata": {},
   "outputs": [],
   "source": [
    "df[\"O3\"] = df[\"O3\"].fillna(df[\"O3\"].mean())"
   ]
  },
  {
   "cell_type": "code",
   "execution_count": 9,
   "id": "0a6dbced",
   "metadata": {},
   "outputs": [
    {
     "data": {
      "text/plain": [
       "Date                  0\n",
       "PM2.5                 0\n",
       "PM10                  0\n",
       "SO2                   0\n",
       "CO                    0\n",
       "O3                    0\n",
       "NO2                   0\n",
       "Max                   0\n",
       "Critical Component    0\n",
       "Category              0\n",
       "dtype: int64"
      ]
     },
     "execution_count": 9,
     "metadata": {},
     "output_type": "execute_result"
    }
   ],
   "source": [
    "df.isna().sum()"
   ]
  },
  {
   "cell_type": "code",
   "execution_count": 10,
   "id": "282edbe9",
   "metadata": {},
   "outputs": [
    {
     "data": {
      "text/html": [
       "<div>\n",
       "<style scoped>\n",
       "    .dataframe tbody tr th:only-of-type {\n",
       "        vertical-align: middle;\n",
       "    }\n",
       "\n",
       "    .dataframe tbody tr th {\n",
       "        vertical-align: top;\n",
       "    }\n",
       "\n",
       "    .dataframe thead th {\n",
       "        text-align: right;\n",
       "    }\n",
       "</style>\n",
       "<table border=\"1\" class=\"dataframe\">\n",
       "  <thead>\n",
       "    <tr style=\"text-align: right;\">\n",
       "      <th></th>\n",
       "      <th>PM2.5</th>\n",
       "      <th>PM10</th>\n",
       "      <th>SO2</th>\n",
       "      <th>CO</th>\n",
       "      <th>O3</th>\n",
       "      <th>NO2</th>\n",
       "      <th>Max</th>\n",
       "    </tr>\n",
       "  </thead>\n",
       "  <tbody>\n",
       "    <tr>\n",
       "      <th>count</th>\n",
       "      <td>1096.000000</td>\n",
       "      <td>1096.000000</td>\n",
       "      <td>1096.000000</td>\n",
       "      <td>1096.000000</td>\n",
       "      <td>1096.000000</td>\n",
       "      <td>1096.000000</td>\n",
       "      <td>1096.000000</td>\n",
       "    </tr>\n",
       "    <tr>\n",
       "      <th>mean</th>\n",
       "      <td>44.193431</td>\n",
       "      <td>18.738139</td>\n",
       "      <td>10.580292</td>\n",
       "      <td>18.820255</td>\n",
       "      <td>20.960425</td>\n",
       "      <td>2.374088</td>\n",
       "      <td>29.235401</td>\n",
       "    </tr>\n",
       "    <tr>\n",
       "      <th>std</th>\n",
       "      <td>10.826190</td>\n",
       "      <td>7.290818</td>\n",
       "      <td>8.068708</td>\n",
       "      <td>17.066338</td>\n",
       "      <td>12.120829</td>\n",
       "      <td>2.227808</td>\n",
       "      <td>15.907933</td>\n",
       "    </tr>\n",
       "    <tr>\n",
       "      <th>min</th>\n",
       "      <td>19.000000</td>\n",
       "      <td>3.000000</td>\n",
       "      <td>0.000000</td>\n",
       "      <td>0.000000</td>\n",
       "      <td>0.000000</td>\n",
       "      <td>0.000000</td>\n",
       "      <td>11.000000</td>\n",
       "    </tr>\n",
       "    <tr>\n",
       "      <th>25%</th>\n",
       "      <td>35.000000</td>\n",
       "      <td>13.000000</td>\n",
       "      <td>1.000000</td>\n",
       "      <td>10.000000</td>\n",
       "      <td>15.000000</td>\n",
       "      <td>0.000000</td>\n",
       "      <td>20.000000</td>\n",
       "    </tr>\n",
       "    <tr>\n",
       "      <th>50%</th>\n",
       "      <td>45.000000</td>\n",
       "      <td>17.000000</td>\n",
       "      <td>14.000000</td>\n",
       "      <td>12.000000</td>\n",
       "      <td>20.000000</td>\n",
       "      <td>3.000000</td>\n",
       "      <td>24.000000</td>\n",
       "    </tr>\n",
       "    <tr>\n",
       "      <th>75%</th>\n",
       "      <td>53.000000</td>\n",
       "      <td>23.000000</td>\n",
       "      <td>16.000000</td>\n",
       "      <td>21.000000</td>\n",
       "      <td>25.000000</td>\n",
       "      <td>4.000000</td>\n",
       "      <td>31.000000</td>\n",
       "    </tr>\n",
       "    <tr>\n",
       "      <th>max</th>\n",
       "      <td>66.000000</td>\n",
       "      <td>60.000000</td>\n",
       "      <td>28.000000</td>\n",
       "      <td>164.000000</td>\n",
       "      <td>81.000000</td>\n",
       "      <td>8.000000</td>\n",
       "      <td>164.000000</td>\n",
       "    </tr>\n",
       "  </tbody>\n",
       "</table>\n",
       "</div>"
      ],
      "text/plain": [
       "             PM2.5         PM10          SO2           CO           O3  \\\n",
       "count  1096.000000  1096.000000  1096.000000  1096.000000  1096.000000   \n",
       "mean     44.193431    18.738139    10.580292    18.820255    20.960425   \n",
       "std      10.826190     7.290818     8.068708    17.066338    12.120829   \n",
       "min      19.000000     3.000000     0.000000     0.000000     0.000000   \n",
       "25%      35.000000    13.000000     1.000000    10.000000    15.000000   \n",
       "50%      45.000000    17.000000    14.000000    12.000000    20.000000   \n",
       "75%      53.000000    23.000000    16.000000    21.000000    25.000000   \n",
       "max      66.000000    60.000000    28.000000   164.000000    81.000000   \n",
       "\n",
       "               NO2          Max  \n",
       "count  1096.000000  1096.000000  \n",
       "mean      2.374088    29.235401  \n",
       "std       2.227808    15.907933  \n",
       "min       0.000000    11.000000  \n",
       "25%       0.000000    20.000000  \n",
       "50%       3.000000    24.000000  \n",
       "75%       4.000000    31.000000  \n",
       "max       8.000000   164.000000  "
      ]
     },
     "execution_count": 10,
     "metadata": {},
     "output_type": "execute_result"
    }
   ],
   "source": [
    "df.describe()"
   ]
  },
  {
   "cell_type": "markdown",
   "id": "ddf05c1c",
   "metadata": {},
   "source": [
    "## Normalisasi data dengan minmax scaler"
   ]
  },
  {
   "cell_type": "code",
   "execution_count": 1,
   "id": "247aa919",
   "metadata": {},
   "outputs": [
    {
     "ename": "NameError",
     "evalue": "name 'df' is not defined",
     "output_type": "error",
     "traceback": [
      "\u001b[1;31m---------------------------------------------------------------------------\u001b[0m",
      "\u001b[1;31mNameError\u001b[0m                                 Traceback (most recent call last)",
      "Input \u001b[1;32mIn [1]\u001b[0m, in \u001b[0;36m<cell line: 5>\u001b[1;34m()\u001b[0m\n\u001b[0;32m      2\u001b[0m \u001b[38;5;28;01mfrom\u001b[39;00m \u001b[38;5;21;01msklearn\u001b[39;00m\u001b[38;5;21;01m.\u001b[39;00m\u001b[38;5;21;01mpreprocessing\u001b[39;00m \u001b[38;5;28;01mimport\u001b[39;00m MinMaxScaler\n\u001b[0;32m      4\u001b[0m \u001b[38;5;66;03m# Data X yang akan dinormalisasi (kecuali 'IE EXP (%)')\u001b[39;00m\n\u001b[1;32m----> 5\u001b[0m X_data \u001b[38;5;241m=\u001b[39m \u001b[43mdf\u001b[49m[[\u001b[38;5;124m'\u001b[39m\u001b[38;5;124mPM2.5\u001b[39m\u001b[38;5;124m'\u001b[39m, \u001b[38;5;124m'\u001b[39m\u001b[38;5;124mPM10\u001b[39m\u001b[38;5;124m'\u001b[39m, \u001b[38;5;124m'\u001b[39m\u001b[38;5;124mSO2\u001b[39m\u001b[38;5;124m'\u001b[39m, \u001b[38;5;124m'\u001b[39m\u001b[38;5;124mCO\u001b[39m\u001b[38;5;124m'\u001b[39m, \u001b[38;5;124m'\u001b[39m\u001b[38;5;124mO3\u001b[39m\u001b[38;5;124m'\u001b[39m, \u001b[38;5;124m'\u001b[39m\u001b[38;5;124mNO2\u001b[39m\u001b[38;5;124m'\u001b[39m, \u001b[38;5;124m'\u001b[39m\u001b[38;5;124mMax\u001b[39m\u001b[38;5;124m'\u001b[39m]]\n\u001b[0;32m      7\u001b[0m \u001b[38;5;66;03m# Inisialisasi MinMaxScaler untuk X\u001b[39;00m\n\u001b[0;32m      8\u001b[0m scaler_X \u001b[38;5;241m=\u001b[39m MinMaxScaler()\n",
      "\u001b[1;31mNameError\u001b[0m: name 'df' is not defined"
     ]
    }
   ],
   "source": [
    "import pandas as pd\n",
    "from sklearn.preprocessing import MinMaxScaler\n",
    "\n",
    "# Data X yang akan dinormalisasi (kecuali 'IE EXP (%)')\n",
    "X_data = df[['PM2.5', 'PM10', 'SO2', 'CO', 'O3', 'NO2', 'Max']]\n",
    "\n",
    "# Inisialisasi MinMaxScaler untuk X\n",
    "scaler_X = MinMaxScaler()\n",
    "X_normalized = scaler_X.fit_transform(X_data)\n",
    "\n",
    "# Mengganti kolom-kolom dalam data_model dengan data yang sudah dinormalisasi\n",
    "df[['PM2.5', 'PM10', 'SO2', 'CO', 'O3', 'NO2', 'Max']] = X_normalized\n",
    "\n",
    "# Kolom 'IE EXP (%)' tidak perlu dinormalisasi\n",
    "# Sekarang Anda dapat menggabungkan data yang sudah dinormalisasi dengan 'IE EXP (%)'\n",
    "df = df"
   ]
  },
  {
   "cell_type": "markdown",
   "id": "cb09e2fc",
   "metadata": {},
   "source": [
    "### Mengecek Outlier"
   ]
  },
  {
   "cell_type": "code",
   "execution_count": 11,
   "id": "36fc90ce",
   "metadata": {},
   "outputs": [
    {
     "data": {
      "image/png": "[encoded data removed]",
      "text/plain": [
       "<Figure size 864x576 with 1 Axes>"
      ]
     },
     "metadata": {
      "needs_background": "light"
     },
     "output_type": "display_data"
    }
   ],
   "source": [
    "# Membuat box plot untuk setiap kolom\n",
    "plt.figure(figsize=(12, 8))\n",
    "df.boxplot()\n",
    "plt.title('Box Plot - Outlier Detection')\n",
    "plt.xticks(rotation=90)\n",
    "plt.show()"
   ]
  },
  {
   "cell_type": "markdown",
   "id": "fa797c67",
   "metadata": {},
   "source": [
    "## Label Encoder"
   ]
  },
  {
   "cell_type": "code",
   "execution_count": 12,
   "id": "487b6899",
   "metadata": {},
   "outputs": [
    {
     "data": {
      "text/html": [
       "<div>\n",
       "<style scoped>\n",
       "    .dataframe tbody tr th:only-of-type {\n",
       "        vertical-align: middle;\n",
       "    }\n",
       "\n",
       "    .dataframe tbody tr th {\n",
       "        vertical-align: top;\n",
       "    }\n",
       "\n",
       "    .dataframe thead th {\n",
       "        text-align: right;\n",
       "    }\n",
       "</style>\n",
       "<table border=\"1\" class=\"dataframe\">\n",
       "  <thead>\n",
       "    <tr style=\"text-align: right;\">\n",
       "      <th></th>\n",
       "      <th>Date</th>\n",
       "      <th>PM2.5</th>\n",
       "      <th>PM10</th>\n",
       "      <th>SO2</th>\n",
       "      <th>CO</th>\n",
       "      <th>O3</th>\n",
       "      <th>NO2</th>\n",
       "      <th>Max</th>\n",
       "      <th>Critical Component</th>\n",
       "      <th>Category</th>\n",
       "    </tr>\n",
       "  </thead>\n",
       "  <tbody>\n",
       "    <tr>\n",
       "      <th>0</th>\n",
       "      <td>1/1/2020</td>\n",
       "      <td>45</td>\n",
       "      <td>30</td>\n",
       "      <td>2</td>\n",
       "      <td>69</td>\n",
       "      <td>19.0</td>\n",
       "      <td>0</td>\n",
       "      <td>69</td>\n",
       "      <td>0</td>\n",
       "      <td>Moderate</td>\n",
       "    </tr>\n",
       "    <tr>\n",
       "      <th>1</th>\n",
       "      <td>1/2/2020</td>\n",
       "      <td>44</td>\n",
       "      <td>16</td>\n",
       "      <td>2</td>\n",
       "      <td>58</td>\n",
       "      <td>33.0</td>\n",
       "      <td>0</td>\n",
       "      <td>58</td>\n",
       "      <td>0</td>\n",
       "      <td>Moderate</td>\n",
       "    </tr>\n",
       "    <tr>\n",
       "      <th>2</th>\n",
       "      <td>1/3/2020</td>\n",
       "      <td>43</td>\n",
       "      <td>12</td>\n",
       "      <td>2</td>\n",
       "      <td>46</td>\n",
       "      <td>18.0</td>\n",
       "      <td>0</td>\n",
       "      <td>46</td>\n",
       "      <td>0</td>\n",
       "      <td>Good</td>\n",
       "    </tr>\n",
       "    <tr>\n",
       "      <th>3</th>\n",
       "      <td>1/4/2020</td>\n",
       "      <td>40</td>\n",
       "      <td>8</td>\n",
       "      <td>2</td>\n",
       "      <td>84</td>\n",
       "      <td>29.0</td>\n",
       "      <td>0</td>\n",
       "      <td>84</td>\n",
       "      <td>0</td>\n",
       "      <td>Moderate</td>\n",
       "    </tr>\n",
       "    <tr>\n",
       "      <th>4</th>\n",
       "      <td>1/5/2020</td>\n",
       "      <td>38</td>\n",
       "      <td>8</td>\n",
       "      <td>3</td>\n",
       "      <td>50</td>\n",
       "      <td>0.0</td>\n",
       "      <td>0</td>\n",
       "      <td>50</td>\n",
       "      <td>0</td>\n",
       "      <td>Good</td>\n",
       "    </tr>\n",
       "  </tbody>\n",
       "</table>\n",
       "</div>"
      ],
      "text/plain": [
       "       Date  PM2.5  PM10  SO2  CO    O3  NO2  Max  Critical Component  \\\n",
       "0  1/1/2020     45    30    2  69  19.0    0   69                   0   \n",
       "1  1/2/2020     44    16    2  58  33.0    0   58                   0   \n",
       "2  1/3/2020     43    12    2  46  18.0    0   46                   0   \n",
       "3  1/4/2020     40     8    2  84  29.0    0   84                   0   \n",
       "4  1/5/2020     38     8    3  50   0.0    0   50                   0   \n",
       "\n",
       "   Category  \n",
       "0  Moderate  \n",
       "1  Moderate  \n",
       "2      Good  \n",
       "3  Moderate  \n",
       "4      Good  "
      ]
     },
     "execution_count": 12,
     "metadata": {},
     "output_type": "execute_result"
    }
   ],
   "source": [
    "# Import label encoder \n",
    "from sklearn import preprocessing\n",
    "# label_encoder object knows how to understand word labels. \n",
    "label_encoder = preprocessing.LabelEncoder()\n",
    "# Encode labels in column 'Country'. \n",
    "df['Critical Component']= label_encoder.fit_transform(df['Critical Component']) \n",
    "df.head()"
   ]
  },
  {
   "cell_type": "markdown",
   "id": "89e29710",
   "metadata": {},
   "source": [
    "# MOdeling"
   ]
  },
  {
   "cell_type": "code",
   "execution_count": 13,
   "id": "da998e80",
   "metadata": {},
   "outputs": [
    {
     "name": "stdout",
     "output_type": "stream",
     "text": [
      "Akurasi model Decision Tree: 80.00%\n",
      "Classification Report:\n",
      "               precision    recall  f1-score   support\n",
      "\n",
      "        Good       0.75      0.78      0.76        76\n",
      "    Moderate       0.85      0.85      0.85       130\n",
      "   Unhealthy       0.55      0.43      0.48        14\n",
      "\n",
      "    accuracy                           0.80       220\n",
      "   macro avg       0.72      0.69      0.70       220\n",
      "weighted avg       0.80      0.80      0.80       220\n",
      "\n"
     ]
    }
   ],
   "source": [
    "# Import library\n",
    "from sklearn.model_selection import train_test_split\n",
    "from sklearn.tree import DecisionTreeClassifier\n",
    "from sklearn.metrics import accuracy_score, classification_report\n",
    "\n",
    "# Contoh dataset klasifikasi (ganti dengan dataset sesuai kebutuhan)\n",
    "from sklearn.datasets import load_digits\n",
    "digits = load_digits()\n",
    "X = df.drop([\"Category\",\"Date\",\"Critical Component\"],axis=1)\n",
    "y = df[\"Category\"]\n",
    "\n",
    "# Pembagian data training dan testing (80:20)\n",
    "X_train, X_test, y_train, y_test = train_test_split(X, y, test_size=0.2, random_state=42)\n",
    "\n",
    "# Membuat model Decision Tree\n",
    "model = DecisionTreeClassifier()\n",
    "\n",
    "# Melatih model dengan data training\n",
    "model.fit(X_train, y_train)\n",
    "\n",
    "# Melakukan prediksi pada data testing\n",
    "y_pred = model.predict(X_test)\n",
    "\n",
    "# Mengukur akurasi model\n",
    "accuracy = accuracy_score(y_test, y_pred)\n",
    "print(f'Akurasi model Decision Tree: {accuracy * 100:.2f}%')\n",
    "\n",
    "# Menampilkan classification report\n",
    "print(\"Classification Report:\\n\", classification_report(y_test, y_pred))\n"
   ]
  },
  {
   "cell_type": "code",
   "execution_count": 14,
   "id": "07e40cf8",
   "metadata": {},
   "outputs": [
    {
     "name": "stdout",
     "output_type": "stream",
     "text": [
      "Akurasi model Naive Bayes: 38.18%\n",
      "Classification Report:\n",
      "               precision    recall  f1-score   support\n",
      "\n",
      "        Good       0.37      0.45      0.40        76\n",
      "    Moderate       0.90      0.28      0.42       130\n",
      "   Unhealthy       0.16      1.00      0.27        14\n",
      "\n",
      "    accuracy                           0.38       220\n",
      "   macro avg       0.48      0.57      0.37       220\n",
      "weighted avg       0.67      0.38      0.41       220\n",
      "\n"
     ]
    }
   ],
   "source": [
    "# Import library\n",
    "from sklearn.model_selection import train_test_split\n",
    "from sklearn.naive_bayes import GaussianNB\n",
    "from sklearn.metrics import accuracy_score, classification_report\n",
    "\n",
    "# Contoh dataset klasifikasi (ganti dengan dataset sesuai kebutuhan)\n",
    "from sklearn.datasets import load_digits\n",
    "digits = load_digits()\n",
    "X = df.drop([\"Category\", \"Date\", \"Critical Component\"], axis=1)\n",
    "y = df[\"Category\"]\n",
    "\n",
    "# Pembagian data training dan testing (80:20)\n",
    "X_train, X_test, y_train, y_test = train_test_split(X, y, test_size=0.2, random_state=42)\n",
    "\n",
    "# Membuat model Naive Bayes (GaussianNB)\n",
    "model = GaussianNB()\n",
    "\n",
    "# Melatih model dengan data training\n",
    "model.fit(X_train, y_train)\n",
    "\n",
    "# Melakukan prediksi pada data testing\n",
    "y_pred = model.predict(X_test)\n",
    "\n",
    "# Mengukur akurasi model\n",
    "accuracy = accuracy_score(y_test, y_pred)\n",
    "print(f'Akurasi model Naive Bayes: {accuracy * 100:.2f}%')\n",
    "\n",
    "# Menampilkan classification report\n",
    "print(\"Classification Report:\\n\", classification_report(y_test, y_pred))\n"
   ]
  },
  {
   "cell_type": "code",
   "execution_count": 71,
   "id": "c7ca9a85",
   "metadata": {},
   "outputs": [
    {
     "name": "stdout",
     "output_type": "stream",
     "text": [
      "Akurasi model CatBoost: 84.55%\n",
      "Classification Report:\n",
      "               precision    recall  f1-score   support\n",
      "\n",
      "        Good       0.81      0.79      0.80        76\n",
      "    Moderate       0.87      0.91      0.89       130\n",
      "   Unhealthy       0.73      0.57      0.64        14\n",
      "\n",
      "    accuracy                           0.85       220\n",
      "   macro avg       0.80      0.76      0.78       220\n",
      "weighted avg       0.84      0.85      0.84       220\n",
      "\n"
     ]
    }
   ],
   "source": [
    "# Import library\n",
    "from sklearn.model_selection import train_test_split\n",
    "from catboost import CatBoostClassifier\n",
    "from sklearn.metrics import accuracy_score, classification_report\n",
    "\n",
    "# Contoh dataset klasifikasi (ganti dengan dataset sesuai kebutuhan)\n",
    "from sklearn.datasets import load_digits\n",
    "digits = load_digits()\n",
    "X = df.drop([\"Category\",\"Date\",\"Critical Component\"], axis=1)\n",
    "y = df[\"Category\"]\n",
    "\n",
    "# Pembagian data training dan testing (80:20)\n",
    "X_train, X_test, y_train, y_test = train_test_split(X, y, test_size=0.2, random_state=42)\n",
    "\n",
    "# Membuat model CatBoost\n",
    "model = CatBoostClassifier(random_state=42, verbose=0)\n",
    "\n",
    "# Melatih model dengan data training\n",
    "model.fit(X_train, y_train)\n",
    "\n",
    "# Melakukan prediksi pada data testing\n",
    "y_pred = model.predict(X_test)\n",
    "\n",
    "# Mengukur akurasi model\n",
    "accuracy = accuracy_score(y_test, y_pred)\n",
    "print(f'Akurasi model CatBoost: {accuracy * 100:.2f}%')\n",
    "\n",
    "# Menampilkan classification report\n",
    "print(\"Classification Report:\\n\", classification_report(y_test, y_pred))\n"
   ]
  },
  {
   "cell_type": "markdown",
   "id": "493a6796",
   "metadata": {},
   "source": [
    "# SMote"
   ]
  },
  {
   "cell_type": "code",
   "execution_count": 64,
   "id": "a6bf8730",
   "metadata": {},
   "outputs": [],
   "source": [
    "from imblearn.over_sampling import SMOTE  # imblearn untuk penanganan ketidakseimbangan kelas (Oversampling)\n",
    "# Melakukan oversampling dengan SMOTE\n",
    "smote = SMOTE(random_state=42) #Memangil SMOTE dengan random state 42  menghasilkan hasil yang dapat direproduksi secara konsisten. \n",
    "X_resampled, y_resampled = smote.fit_resample(X, y) # menyimpan hasil over samping tersebut pada x y resampled\n",
    "\n",
    "# Membagi data menjadi data latih dan data uji\n",
    "X_train_oversampled2, X_test_oversampled2, y_train_oversampled2, y_test_oversampled2 = train_test_split(X_resampled, y_resampled, test_size=0.2, random_state=42)"
   ]
  },
  {
   "cell_type": "code",
   "execution_count": 65,
   "id": "f46a5be7",
   "metadata": {},
   "outputs": [
    {
     "name": "stdout",
     "output_type": "stream",
     "text": [
      "Accuracy: 0.9088541666666666\n",
      "Classification Report:\n",
      "               precision    recall  f1-score   support\n",
      "\n",
      "        Good       0.89      0.88      0.88       121\n",
      "    Moderate       0.90      0.89      0.89       135\n",
      "   Unhealthy       0.94      0.96      0.95       128\n",
      "\n",
      "    accuracy                           0.91       384\n",
      "   macro avg       0.91      0.91      0.91       384\n",
      "weighted avg       0.91      0.91      0.91       384\n",
      "\n"
     ]
    },
    {
     "data": {
      "image/png": "[encoded data removed]",
      "text/plain": [
       "<Figure size 576x432 with 2 Axes>"
      ]
     },
     "metadata": {
      "needs_background": "light"
     },
     "output_type": "display_data"
    }
   ],
   "source": [
    "from sklearn.tree import DecisionTreeClassifier\n",
    "from sklearn.metrics import accuracy_score, classification_report, confusion_matrix\n",
    "import matplotlib.pyplot as plt\n",
    "import seaborn as sns\n",
    "\n",
    "# Membuat model Decision Tree\n",
    "dt_classifier = DecisionTreeClassifier(random_state=42)\n",
    "\n",
    "# Melatih model\n",
    "dt_classifier.fit(X_train_oversampled2, y_train_oversampled2)\n",
    "\n",
    "# Melakukan prediksi pada data oversampled\n",
    "y_pred_oversampled = dt_classifier.predict(X_test_oversampled2)\n",
    "\n",
    "# Evaluasi model\n",
    "accuracy_oversampled = accuracy_score(y_test_oversampled2, y_pred_oversampled)\n",
    "report_oversampled = classification_report(y_test_oversampled2, y_pred_oversampled)\n",
    "confusion_mat_oversampled = confusion_matrix(y_test_oversampled2, y_pred_oversampled)\n",
    "\n",
    "print(\"Accuracy:\", accuracy_oversampled)\n",
    "print(\"Classification Report:\\n\", report_oversampled)\n",
    "\n",
    "# Memvisualisasikan Confusion Matrix\n",
    "plt.figure(figsize=(8, 6))\n",
    "sns.heatmap(confusion_mat_oversampled, annot=True, fmt=\".0f\", cmap=\"YlGnBu\")\n",
    "plt.title(\"Confusion Matrix\")\n",
    "plt.xlabel(\"Predicted Class\")\n",
    "plt.ylabel(\"True Class\")\n",
    "plt.show()\n"
   ]
  },
  {
   "cell_type": "code",
   "execution_count": 66,
   "id": "3069cd39",
   "metadata": {},
   "outputs": [
    {
     "name": "stdout",
     "output_type": "stream",
     "text": [
      "Accuracy: 0.9036458333333334\n",
      "Classification Report:\n",
      "               precision    recall  f1-score   support\n",
      "\n",
      "        Good       0.87      0.92      0.89       121\n",
      "    Moderate       0.97      0.82      0.89       135\n",
      "   Unhealthy       0.89      0.98      0.93       128\n",
      "\n",
      "    accuracy                           0.90       384\n",
      "   macro avg       0.91      0.91      0.90       384\n",
      "weighted avg       0.91      0.90      0.90       384\n",
      "\n"
     ]
    },
    {
     "data": {
      "image/png": "[encoded data removed]",
      "text/plain": [
       "<Figure size 576x432 with 2 Axes>"
      ]
     },
     "metadata": {
      "needs_background": "light"
     },
     "output_type": "display_data"
    }
   ],
   "source": [
    "from sklearn.neighbors import KNeighborsClassifier\n",
    "from sklearn.metrics import accuracy_score, classification_report, confusion_matrix\n",
    "import matplotlib.pyplot as plt\n",
    "import seaborn as sns\n",
    "\n",
    "# Membuat model KNN\n",
    "knn_classifier = KNeighborsClassifier(n_neighbors=5)\n",
    "\n",
    "# Melatih model\n",
    "knn_classifier.fit(X_train_oversampled2, y_train_oversampled2)\n",
    "\n",
    "# Melakukan prediksi pada data oversampled\n",
    "y_pred_oversampled = knn_classifier.predict(X_test_oversampled2)\n",
    "\n",
    "# Evaluasi model\n",
    "accuracy_oversampled = accuracy_score(y_test_oversampled2, y_pred_oversampled)\n",
    "report_oversampled = classification_report(y_test_oversampled2, y_pred_oversampled)\n",
    "confusion_mat_oversampled = confusion_matrix(y_test_oversampled2, y_pred_oversampled)\n",
    "\n",
    "print(\"Accuracy:\", accuracy_oversampled)\n",
    "print(\"Classification Report:\\n\", report_oversampled)\n",
    "\n",
    "# Memvisualisasikan Confusion Matrix\n",
    "plt.figure(figsize=(8, 6))\n",
    "sns.heatmap(confusion_mat_oversampled, annot=True, fmt=\".0f\", cmap=\"YlGnBu\")\n",
    "plt.title(\"Confusion Matrix\")\n",
    "plt.xlabel(\"Predicted Class\")\n",
    "plt.ylabel(\"True Class\")\n",
    "plt.show()\n"
   ]
  },
  {
   "cell_type": "code",
   "execution_count": 67,
   "id": "92e24f19",
   "metadata": {},
   "outputs": [
    {
     "name": "stdout",
     "output_type": "stream",
     "text": [
      "Accuracy: 0.890625\n",
      "Classification Report:\n",
      "               precision    recall  f1-score   support\n",
      "\n",
      "        Good       0.84      0.88      0.86       121\n",
      "    Moderate       0.92      0.81      0.86       135\n",
      "   Unhealthy       0.91      0.98      0.95       128\n",
      "\n",
      "    accuracy                           0.89       384\n",
      "   macro avg       0.89      0.89      0.89       384\n",
      "weighted avg       0.89      0.89      0.89       384\n",
      "\n"
     ]
    },
    {
     "data": {
      "image/png": "[encoded data removed]",
      "text/plain": [
       "<Figure size 576x432 with 2 Axes>"
      ]
     },
     "metadata": {
      "needs_background": "light"
     },
     "output_type": "display_data"
    }
   ],
   "source": [
    "from sklearn.ensemble import GradientBoostingClassifier\n",
    "from sklearn.metrics import accuracy_score, classification_report, confusion_matrix\n",
    "import matplotlib.pyplot as plt\n",
    "import seaborn as sns\n",
    "\n",
    "# Membuat model Gradient Boosting\n",
    "gb_classifier = GradientBoostingClassifier(random_state=42)\n",
    "\n",
    "# Melatih model\n",
    "gb_classifier.fit(X_train_oversampled2, y_train_oversampled2)\n",
    "\n",
    "# Melakukan prediksi pada data oversampled\n",
    "y_pred_oversampled = gb_classifier.predict(X_test_oversampled2)\n",
    "\n",
    "# Evaluasi model\n",
    "accuracy_oversampled = accuracy_score(y_test_oversampled2, y_pred_oversampled)\n",
    "report_oversampled = classification_report(y_test_oversampled2, y_pred_oversampled)\n",
    "confusion_mat_oversampled = confusion_matrix(y_test_oversampled2, y_pred_oversampled)\n",
    "\n",
    "print(\"Accuracy:\", accuracy_oversampled)\n",
    "print(\"Classification Report:\\n\", report_oversampled)\n",
    "\n",
    "# Memvisualisasikan Confusion Matrix\n",
    "plt.figure(figsize=(8, 6))\n",
    "sns.heatmap(confusion_mat_oversampled, annot=True, fmt=\".0f\", cmap=\"YlGnBu\")\n",
    "plt.title(\"Confusion Matrix\")\n",
    "plt.xlabel(\"Predicted Class\")\n",
    "plt.ylabel(\"True Class\")\n",
    "plt.show()\n"
   ]
  },
  {
   "cell_type": "code",
   "execution_count": null,
   "id": "84790db7",
   "metadata": {},
   "outputs": [],
   "source": [
    "from sklearn.preprocessing import LabelEncoder\n",
    "from xgboost import XGBClassifier\n",
    "from sklearn.metrics import accuracy_score, classification_report, confusion_matrix\n",
    "import matplotlib.pyplot as plt\n",
    "import seaborn as sns\n",
    "\n",
    "# Encoding string labels to integer labels\n",
    "label_encoder = LabelEncoder()\n",
    "y_train_encoded = label_encoder.fit_transform(y_train_oversampled2)\n",
    "y_test_encoded = label_encoder.transform(y_test_oversampled2)\n",
    "\n",
    "# Membuat model XGBoost\n",
    "xgb_classifier = XGBClassifier(random_state=42)\n",
    "\n",
    "# Melatih model\n",
    "xgb_classifier.fit(X_train_oversampled2, y_train_encoded)\n",
    "\n",
    "# Melakukan prediksi pada data oversampled\n",
    "y_pred_oversampled = xgb_classifier.predict(X_test_oversampled2)\n",
    "\n",
    "# Evaluasi model\n",
    "accuracy_oversampled = accuracy_score(y_test_encoded, y_pred_oversampled)\n",
    "report_oversampled = classification_report(y_test_encoded, y_pred_oversampled)\n",
    "confusion_mat_oversampled = confusion_matrix(y_test_encoded, y_pred_oversampled)\n",
    "\n",
    "print(\"Accuracy:\", accuracy_oversampled)\n",
    "print(\"Classification Report:\\n\", report_oversampled)\n",
    "\n",
    "# Memvisualisasikan Confusion Matrix\n",
    "plt.figure(figsize=(8, 6))\n",
    "sns.heatmap(confusion_mat_oversampled, annot=True, fmt=\".0f\", cmap=\"YlGnBu\")\n",
    "plt.title(\"Confusion Matrix\")\n",
    "plt.xlabel(\"Predicted Class\")\n",
    "plt.ylabel(\"True Class\")\n",
    "plt.show()\n"
   ]
  },
  {
   "cell_type": "code",
   "execution_count": null,
   "id": "e58a3389",
   "metadata": {},
   "outputs": [],
   "source": [
    "from sklearn.svm import SVC\n",
    "from sklearn.metrics import accuracy_score, classification_report, confusion_matrix\n",
    "import matplotlib.pyplot as plt\n",
    "import seaborn as sns\n",
    "\n",
    "# Membuat model SVM\n",
    "svm_classifier = SVC(random_state=42)\n",
    "\n",
    "# Melatih model\n",
    "svm_classifier.fit(X_train_oversampled2, y_train_oversampled2)\n",
    "\n",
    "# Melakukan prediksi pada data oversampled\n",
    "y_pred_oversampled = svm_classifier.predict(X_test_oversampled2)\n",
    "\n",
    "# Evaluasi model\n",
    "accuracy_oversampled = accuracy_score(y_test_oversampled2, y_pred_oversampled)\n",
    "report_oversampled = classification_report(y_test_oversampled2, y_pred_oversampled)\n",
    "confusion_mat_oversampled = confusion_matrix(y_test_oversampled2, y_pred_oversampled)\n",
    "\n",
    "print(\"Accuracy:\", accuracy_oversampled)\n",
    "print(\"Classification Report:\\n\", report_oversampled)\n",
    "\n",
    "# Memvisualisasikan Confusion Matrix\n",
    "plt.figure(figsize=(8, 6))\n",
    "sns.heatmap(confusion_mat_oversampled, annot=True, fmt=\".0f\", cmap=\"YlGnBu\")\n",
    "plt.title(\"Confusion Matrix\")\n",
    "plt.xlabel(\"Predicted Class\")\n",
    "plt.ylabel(\"True Class\")\n",
    "plt.show()\n"
   ]
  },
  {
   "cell_type": "code",
   "execution_count": 68,
   "id": "67320e78",
   "metadata": {},
   "outputs": [
    {
     "name": "stdout",
     "output_type": "stream",
     "text": [
      "Accuracy: 0.625\n",
      "Classification Report:\n",
      "               precision    recall  f1-score   support\n",
      "\n",
      "        Good       0.56      0.49      0.52       121\n",
      "    Moderate       0.50      0.60      0.55       135\n",
      "   Unhealthy       0.86      0.78      0.82       128\n",
      "\n",
      "    accuracy                           0.62       384\n",
      "   macro avg       0.64      0.62      0.63       384\n",
      "weighted avg       0.64      0.62      0.63       384\n",
      "\n"
     ]
    },
    {
     "data": {
      "image/png": "[encoded data removed]",
      "text/plain": [
       "<Figure size 576x432 with 2 Axes>"
      ]
     },
     "metadata": {
      "needs_background": "light"
     },
     "output_type": "display_data"
    }
   ],
   "source": [
    "from sklearn.ensemble import AdaBoostClassifier\n",
    "from sklearn.metrics import accuracy_score, classification_report, confusion_matrix\n",
    "import matplotlib.pyplot as plt\n",
    "import seaborn as sns\n",
    "\n",
    "# Membuat model AdaBoost\n",
    "adaboost_classifier = AdaBoostClassifier(random_state=42)\n",
    "\n",
    "# Melatih model\n",
    "adaboost_classifier.fit(X_train_oversampled2, y_train_oversampled2)\n",
    "\n",
    "# Melakukan prediksi pada data oversampled\n",
    "y_pred_oversampled = adaboost_classifier.predict(X_test_oversampled2)\n",
    "\n",
    "# Evaluasi model\n",
    "accuracy_oversampled = accuracy_score(y_test_oversampled2, y_pred_oversampled)\n",
    "report_oversampled = classification_report(y_test_oversampled2, y_pred_oversampled)\n",
    "confusion_mat_oversampled = confusion_matrix(y_test_oversampled2, y_pred_oversampled)\n",
    "\n",
    "print(\"Accuracy:\", accuracy_oversampled)\n",
    "print(\"Classification Report:\\n\", report_oversampled)\n",
    "\n",
    "# Memvisualisasikan Confusion Matrix\n",
    "plt.figure(figsize=(8, 6))\n",
    "sns.heatmap(confusion_mat_oversampled, annot=True, fmt=\".0f\", cmap=\"YlGnBu\")\n",
    "plt.title(\"Confusion Matrix\")\n",
    "plt.xlabel(\"Predicted Class\")\n",
    "plt.ylabel(\"True Class\")\n",
    "plt.show()\n"
   ]
  },
  {
   "cell_type": "code",
   "execution_count": 69,
   "id": "bdec3dc2",
   "metadata": {},
   "outputs": [
    {
     "name": "stdout",
     "output_type": "stream",
     "text": [
      "Requirement already satisfied: catboost in c:\\users\\asus\\anaconda3\\lib\\site-packages (1.2.2)\n",
      "Requirement already satisfied: graphviz in c:\\users\\asus\\anaconda3\\lib\\site-packages (from catboost) (0.20.1)\n",
      "Requirement already satisfied: scipy in c:\\users\\asus\\anaconda3\\lib\\site-packages (from catboost) (1.7.3)\n",
      "Requirement already satisfied: matplotlib in c:\\users\\asus\\anaconda3\\lib\\site-packages (from catboost) (3.5.1)\n",
      "Requirement already satisfied: pandas>=0.24 in c:\\users\\asus\\anaconda3\\lib\\site-packages (from catboost) (1.4.2)\n",
      "Requirement already satisfied: numpy>=1.16.0 in c:\\users\\asus\\anaconda3\\lib\\site-packages (from catboost) (1.22.4)\n",
      "Requirement already satisfied: plotly in c:\\users\\asus\\anaconda3\\lib\\site-packages (from catboost) (5.6.0)\n",
      "Requirement already satisfied: six in c:\\users\\asus\\anaconda3\\lib\\site-packages (from catboost) (1.16.0)\n",
      "Requirement already satisfied: python-dateutil>=2.8.1 in c:\\users\\asus\\anaconda3\\lib\\site-packages (from pandas>=0.24->catboost) (2.8.2)\n",
      "Requirement already satisfied: pytz>=2020.1 in c:\\users\\asus\\anaconda3\\lib\\site-packages (from pandas>=0.24->catboost) (2021.3)\n",
      "Requirement already satisfied: packaging>=20.0 in c:\\users\\asus\\anaconda3\\lib\\site-packages (from matplotlib->catboost) (21.3)\n",
      "Requirement already satisfied: kiwisolver>=1.0.1 in c:\\users\\asus\\anaconda3\\lib\\site-packages (from matplotlib->catboost) (1.3.2)\n",
      "Requirement already satisfied: cycler>=0.10 in c:\\users\\asus\\anaconda3\\lib\\site-packages (from matplotlib->catboost) (0.11.0)\n",
      "Requirement already satisfied: pillow>=6.2.0 in c:\\users\\asus\\anaconda3\\lib\\site-packages (from matplotlib->catboost) (9.0.1)\n",
      "Requirement already satisfied: pyparsing>=2.2.1 in c:\\users\\asus\\anaconda3\\lib\\site-packages (from matplotlib->catboost) (3.0.4)\n",
      "Requirement already satisfied: fonttools>=4.22.0 in c:\\users\\asus\\anaconda3\\lib\\site-packages (from matplotlib->catboost) (4.25.0)\n",
      "Requirement already satisfied: tenacity>=6.2.0 in c:\\users\\asus\\anaconda3\\lib\\site-packages (from plotly->catboost) (8.2.3)\n",
      "Note: you may need to restart the kernel to use updated packages.\n"
     ]
    },
    {
     "name": "stderr",
     "output_type": "stream",
     "text": [
      "WARNING: Ignoring invalid distribution -ensorflow-intel (c:\\users\\asus\\anaconda3\\lib\\site-packages)\n",
      "WARNING: Ignoring invalid distribution -ensorflow-intel (c:\\users\\asus\\anaconda3\\lib\\site-packages)\n",
      "WARNING: Ignoring invalid distribution -ensorflow-intel (c:\\users\\asus\\anaconda3\\lib\\site-packages)\n",
      "WARNING: Ignoring invalid distribution -ensorflow-intel (c:\\users\\asus\\anaconda3\\lib\\site-packages)\n",
      "WARNING: Ignoring invalid distribution -ensorflow-intel (c:\\users\\asus\\anaconda3\\lib\\site-packages)\n",
      "WARNING: Ignoring invalid distribution -ensorflow-intel (c:\\users\\asus\\anaconda3\\lib\\site-packages)\n"
     ]
    }
   ],
   "source": [
    "pip install catboost\n"
   ]
  },
  {
   "cell_type": "code",
   "execution_count": 70,
   "id": "b70b7c0e",
   "metadata": {},
   "outputs": [
    {
     "name": "stdout",
     "output_type": "stream",
     "text": [
      "Accuracy: 0.9296875\n",
      "Classification Report:\n",
      "               precision    recall  f1-score   support\n",
      "\n",
      "        Good       0.90      0.89      0.90       121\n",
      "    Moderate       0.93      0.90      0.92       135\n",
      "   Unhealthy       0.95      0.99      0.97       128\n",
      "\n",
      "    accuracy                           0.93       384\n",
      "   macro avg       0.93      0.93      0.93       384\n",
      "weighted avg       0.93      0.93      0.93       384\n",
      "\n"
     ]
    },
    {
     "data": {
      "image/png": "[encoded data removed]",
      "text/plain": [
       "<Figure size 576x432 with 2 Axes>"
      ]
     },
     "metadata": {
      "needs_background": "light"
     },
     "output_type": "display_data"
    }
   ],
   "source": [
    "from catboost import CatBoostClassifier\n",
    "from sklearn.metrics import accuracy_score, classification_report, confusion_matrix\n",
    "import matplotlib.pyplot as plt\n",
    "import seaborn as sns\n",
    "\n",
    "# Membuat model CatBoost\n",
    "catboost_classifier = CatBoostClassifier(random_state=42, verbose=0)\n",
    "\n",
    "# Melatih model\n",
    "catboost_classifier.fit(X_train_oversampled2, y_train_oversampled2)\n",
    "\n",
    "# Melakukan prediksi pada data oversampled\n",
    "y_pred_oversampled = catboost_classifier.predict(X_test_oversampled2)\n",
    "\n",
    "# Evaluasi model\n",
    "accuracy_oversampled = accuracy_score(y_test_oversampled2, y_pred_oversampled)\n",
    "report_oversampled = classification_report(y_test_oversampled2, y_pred_oversampled)\n",
    "confusion_mat_oversampled = confusion_matrix(y_test_oversampled2, y_pred_oversampled)\n",
    "\n",
    "print(\"Accuracy:\", accuracy_oversampled)\n",
    "print(\"Classification Report:\\n\", report_oversampled)\n",
    "\n",
    "# Memvisualisasikan Confusion Matrix\n",
    "plt.figure(figsize=(8, 6))\n",
    "sns.heatmap(confusion_mat_oversampled, annot=True, fmt=\".0f\", cmap=\"YlGnBu\")\n",
    "plt.title(\"Confusion Matrix\")\n",
    "plt.xlabel(\"Predicted Class\")\n",
    "plt.ylabel(\"True Class\")\n",
    "plt.show()\n"
   ]
  },
  {
   "cell_type": "code",
   "execution_count": null,
   "id": "6a13ed6a",
   "metadata": {},
   "outputs": [],
   "source": [
    "from catboost import CatBoostClassifier\n",
    "from sklearn.metrics import accuracy_score, classification_report, confusion_matrix\n",
    "from sklearn.model_selection import StratifiedKFold\n",
    "import matplotlib.pyplot as plt\n",
    "import seaborn as sns\n",
    "\n",
    "# Membuat model CatBoost\n",
    "catboost_classifier = CatBoostClassifier(random_state=42, verbose=0)\n",
    "\n",
    "# Menggunakan StratifiedKFold dengan 5 lipatan\n",
    "kfold = StratifiedKFold(n_splits=5, shuffle=True, random_state=42)\n",
    "\n",
    "# Menyimpan skor akurasi untuk setiap lipatan\n",
    "accuracies = []\n",
    "\n",
    "# Iterasi melalui setiap lipatan\n",
    "for train_index, test_index in kfold.split(X_train_oversampled2, y_train_oversampled2):\n",
    "    X_train_fold, X_test_fold = X_resampled.iloc[train_index], X_resampled.iloc[test_index]\n",
    "    y_train_fold, y_test_fold = y_resampled.iloc[train_index], y_resampled.iloc[test_index]\n",
    "    \n",
    "    # Melatih model\n",
    "    catboost_classifier.fit(X_train_fold, y_train_fold)\n",
    "    \n",
    "    # Melakukan prediksi pada set pengujian\n",
    "    y_pred_fold = catboost_classifier.predict(X_test_fold)\n",
    "    \n",
    "    # Menghitung dan menyimpan akurasi\n",
    "    accuracy_fold = accuracy_score(y_test_fold, y_pred_fold)\n",
    "    accuracies.append(accuracy_fold)\n",
    "\n",
    "# Menampilkan akurasi untuk setiap lipatan\n",
    "print(\"Accuracies for each fold:\", accuracies)\n",
    "\n",
    "# Menampilkan rata-rata akurasi\n",
    "print(\"Average accuracy:\", sum(accuracies) / len(accuracies))\n"
   ]
  },
  {
   "cell_type": "markdown",
   "id": "f5f6ec73",
   "metadata": {},
   "source": [
    "# normalisasi"
   ]
  },
  {
   "cell_type": "code",
   "execution_count": null,
   "id": "377d7b55",
   "metadata": {},
   "outputs": [],
   "source": [
    "X1 = df.drop([\"Category\",\"Date\",\"Critical Component\"],axis=1)\n",
    "y1 = df[\"Category\"]"
   ]
  },
  {
   "cell_type": "code",
   "execution_count": 72,
   "id": "342ac8dd",
   "metadata": {},
   "outputs": [
    {
     "name": "stdout",
     "output_type": "stream",
     "text": [
      "Akurasi model CatBoost setelah normalisasi: 84.55%\n",
      "Classification Report:\n",
      "               precision    recall  f1-score   support\n",
      "\n",
      "        Good       0.81      0.79      0.80        76\n",
      "    Moderate       0.87      0.91      0.89       130\n",
      "   Unhealthy       0.73      0.57      0.64        14\n",
      "\n",
      "    accuracy                           0.85       220\n",
      "   macro avg       0.80      0.76      0.78       220\n",
      "weighted avg       0.84      0.85      0.84       220\n",
      "\n"
     ]
    }
   ],
   "source": [
    "from sklearn.preprocessing import MinMaxScaler\n",
    "from sklearn.model_selection import train_test_split\n",
    "from catboost import CatBoostClassifier\n",
    "from sklearn.metrics import accuracy_score, classification_report\n",
    "\n",
    "# Contoh dataset klasifikasi (ganti dengan dataset sesuai kebutuhan)\n",
    "from sklearn.datasets import load_digits\n",
    "digits = load_digits()\n",
    "X1 = df.drop([\"Category\",\"Date\",\"Critical Component\"], axis=1)\n",
    "y1 = df[\"Category\"]\n",
    "\n",
    "# Normalisasi menggunakan Min-Max Scaling\n",
    "scaler = MinMaxScaler()\n",
    "X1_scaled = scaler.fit_transform(X1)\n",
    "\n",
    "# Pembagian data training dan testing (80:20)\n",
    "X1_train, X1_test, y1_train, y1_test = train_test_split(X1_scaled, y1, test_size=0.2, random_state=42)\n",
    "\n",
    "# Membuat model CatBoost\n",
    "model = CatBoostClassifier(random_state=42, verbose=0)\n",
    "\n",
    "# Melatih model dengan data training\n",
    "model.fit(X1_train, y1_train)\n",
    "\n",
    "# Melakukan prediksi pada data testing\n",
    "y1_pred = model.predict(X1_test)\n",
    "\n",
    "# Mengukur akurasi model\n",
    "accuracy = accuracy_score(y1_test, y1_pred)\n",
    "print(f'Akurasi model CatBoost setelah normalisasi: {accuracy * 100:.2f}%')\n",
    "\n",
    "# Menampilkan classification report\n",
    "print(\"Classification Report:\\n\", classification_report(y1_test, y1_pred))\n"
   ]
  },
  {
   "cell_type": "code",
   "execution_count": 73,
   "id": "c4b72cd7",
   "metadata": {},
   "outputs": [
    {
     "name": "stdout",
     "output_type": "stream",
     "text": [
      "Akurasi model CatBoost setelah oversampling dan normalisasi: 92.97%\n",
      "Classification Report:\n",
      "               precision    recall  f1-score   support\n",
      "\n",
      "        Good       0.90      0.89      0.90       121\n",
      "    Moderate       0.93      0.90      0.92       135\n",
      "   Unhealthy       0.95      0.99      0.97       128\n",
      "\n",
      "    accuracy                           0.93       384\n",
      "   macro avg       0.93      0.93      0.93       384\n",
      "weighted avg       0.93      0.93      0.93       384\n",
      "\n"
     ]
    }
   ],
   "source": [
    "from imblearn.over_sampling import SMOTE\n",
    "from sklearn.model_selection import train_test_split\n",
    "from sklearn.preprocessing import MinMaxScaler\n",
    "from catboost import CatBoostClassifier\n",
    "from sklearn.metrics import accuracy_score, classification_report\n",
    "X = df.drop([\"Category\",\"Date\",\"Critical Component\"],axis=1)\n",
    "y = df[\"Category\"]\n",
    "\n",
    "\n",
    "# Melakukan oversampling dengan SMOTE\n",
    "smote = SMOTE(random_state=42)\n",
    "X_resampled, y_resampled = smote.fit_resample(X, y)\n",
    "\n",
    "# Normalisasi menggunakan Min-Max Scaling\n",
    "scaler = MinMaxScaler()\n",
    "X_resampled_scaled = scaler.fit_transform(X_resampled)\n",
    "\n",
    "# Membagi data menjadi data latih dan data uji\n",
    "X_train_oversampled2, X_test_oversampled2, y_train_oversampled2, y_test_oversampled2 = train_test_split(\n",
    "    X_resampled_scaled, y_resampled, test_size=0.2, random_state=42\n",
    ")\n",
    "\n",
    "# Membuat model CatBoost\n",
    "model = CatBoostClassifier(random_state=42, verbose=0)\n",
    "\n",
    "# Melatih model dengan data training oversampled dan dinormalisasi\n",
    "model.fit(X_train_oversampled2, y_train_oversampled2)\n",
    "\n",
    "# Melakukan prediksi pada data testing oversampled\n",
    "y_pred_oversampled = model.predict(X_test_oversampled2)\n",
    "\n",
    "# Mengukur akurasi model\n",
    "accuracy_oversampled = accuracy_score(y_test_oversampled2, y_pred_oversampled)\n",
    "print(f'Akurasi model CatBoost setelah oversampling dan normalisasi: {accuracy_oversampled * 100:.2f}%')\n",
    "\n",
    "# Menampilkan classification report\n",
    "print(\"Classification Report:\\n\", classification_report(y_test_oversampled2, y_pred_oversampled))"
   ]
  },
  {
   "cell_type": "code",
   "execution_count": null,
   "id": "d0f207f0",
   "metadata": {},
   "outputs": [],
   "source": []
  }
 ],
 "metadata": {
  "kernelspec": {
   "display_name": "Python 3 (ipykernel)",
   "language": "python",
   "name": "python3"
  },
  "language_info": {
   "codemirror_mode": {
    "name": "ipython",
    "version": 3
   },
   "file_extension": ".py",
   "mimetype": "text/x-python",
   "name": "python",
   "nbconvert_exporter": "python",
   "pygments_lexer": "ipython3",
   "version": "3.9.12"
  },
  "toc": {
   "base_numbering": 1,
   "nav_menu": {},
   "number_sections": true,
   "sideBar": true,
   "skip_h1_title": false,
   "title_cell": "Table of Contents",
   "title_sidebar": "Contents",
   "toc_cell": false,
   "toc_position": {
    "height": "calc(100% - 180px)",
    "left": "10px",
    "top": "150px",
    "width": "674.333px"
   },
   "toc_section_display": true,
   "toc_window_display": true
  },
  "varInspector": {
   "cols": {
    "lenName": 16,
    "lenType": 16,
    "lenVar": 40
   },
   "kernels_config": {
    "python": {
     "delete_cmd_postfix": "",
     "delete_cmd_prefix": "del ",
     "library": "var_list.py",
     "varRefreshCmd": "print(var_dic_list())"
    },
    "r": {
     "delete_cmd_postfix": ") ",
     "delete_cmd_prefix": "rm(",
     "library": "var_list.r",
     "varRefreshCmd": "cat(var_dic_list()) "
    }
   },
   "types_to_exclude": [
    "module",
    "function",
    "builtin_function_or_method",
    "instance",
    "_Feature"
   ],
   "window_display": false
  }
 },
 "nbformat": 4,
 "nbformat_minor": 5
}
